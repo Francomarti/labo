{
 "cells": [
  {
   "cell_type": "markdown",
   "metadata": {},
   "source": [
    "# Zero to Hero"
   ]
  },
  {
   "cell_type": "markdown",
   "metadata": {},
   "source": [
    "## 2.01 Optimizacion Bayesiana"
   ]
  },
  {
   "cell_type": "raw",
   "metadata": {},
   "source": [
    "El objetivo es mostrar como funciona la Optimizacion Bayesiana en el caso mas simple : una funcion univariada"
   ]
  },
  {
   "cell_type": "markdown",
   "metadata": {},
   "source": [
    "### Advertencia"
   ]
  },
  {
   "cell_type": "markdown",
   "metadata": {},
   "source": [
    "El uso del método de Optimización Bayesiana para la optimización de hiperparámetros en modelos predictivos tiene menos de una década.\n",
    "Entender los fundamentos de la O.B. requieren de una sólida formación matemática y **no** son el objetivo de esta asignatura.\n",
    "Para quienes deseen aventurarse a los detalles técnicos:\n",
    "* El paper original de la libreria mlrMBO (año 2018 )   https://arxiv.org/pdf/1703.03373.pdf\n",
    "* El método de Kriging , tal cual se deriva del uso original, en este pequeño libro de 106 páginas \"Basic Steps in Geostatistics: The Variogram and Kriging\" https://www.pdfdrive.com/basic-steps-in-geostatistics-the-variogram-and-kriging-e187336318.html"
   ]
  },
  {
   "cell_type": "markdown",
   "metadata": {},
   "source": [
    "### El código"
   ]
  },
  {
   "cell_type": "code",
   "execution_count": 16,
   "metadata": {
    "tags": [],
    "vscode": {
     "languageId": "r"
    }
   },
   "outputs": [
    {
     "data": {
      "text/html": [
       "<table class=\"dataframe\">\n",
       "<caption>A matrix: 2 × 6 of type dbl</caption>\n",
       "<thead>\n",
       "\t<tr><th></th><th scope=col>used</th><th scope=col>(Mb)</th><th scope=col>gc trigger</th><th scope=col>(Mb)</th><th scope=col>max used</th><th scope=col>(Mb)</th></tr>\n",
       "</thead>\n",
       "<tbody>\n",
       "\t<tr><th scope=row>Ncells</th><td> 647879</td><td>34.7</td><td>1321405</td><td>70.6</td><td>1321405</td><td>70.6</td></tr>\n",
       "\t<tr><th scope=row>Vcells</th><td>1158743</td><td> 8.9</td><td>8388608</td><td>64.0</td><td>1686097</td><td>12.9</td></tr>\n",
       "</tbody>\n",
       "</table>\n"
      ],
      "text/latex": [
       "A matrix: 2 × 6 of type dbl\n",
       "\\begin{tabular}{r|llllll}\n",
       "  & used & (Mb) & gc trigger & (Mb) & max used & (Mb)\\\\\n",
       "\\hline\n",
       "\tNcells &  647879 & 34.7 & 1321405 & 70.6 & 1321405 & 70.6\\\\\n",
       "\tVcells & 1158743 &  8.9 & 8388608 & 64.0 & 1686097 & 12.9\\\\\n",
       "\\end{tabular}\n"
      ],
      "text/markdown": [
       "\n",
       "A matrix: 2 × 6 of type dbl\n",
       "\n",
       "| <!--/--> | used | (Mb) | gc trigger | (Mb) | max used | (Mb) |\n",
       "|---|---|---|---|---|---|---|\n",
       "| Ncells |  647879 | 34.7 | 1321405 | 70.6 | 1321405 | 70.6 |\n",
       "| Vcells | 1158743 |  8.9 | 8388608 | 64.0 | 1686097 | 12.9 |\n",
       "\n"
      ],
      "text/plain": [
       "       used    (Mb) gc trigger (Mb) max used (Mb)\n",
       "Ncells  647879 34.7 1321405    70.6 1321405  70.6\n",
       "Vcells 1158743  8.9 8388608    64.0 1686097  12.9"
      ]
     },
     "metadata": {},
     "output_type": "display_data"
    },
    {
     "name": "stderr",
     "output_type": "stream",
     "text": [
      "Loading required package: DiceKriging\n",
      "\n",
      "Loading required package: mlrMBO\n",
      "\n",
      "Loading required package: mlr\n",
      "\n",
      "Loading required package: ParamHelpers\n",
      "\n",
      "Warning message: 'mlr' is in 'maintenance-only' mode since July 2019.\n",
      "Future development will only happen in 'mlr3'\n",
      "(<https://mlr3.mlr-org.com>). Due to the focus on 'mlr3' there might be\n",
      "uncaught bugs meanwhile in {mlr} - please consider switching.\n",
      "\n",
      "Loading required package: smoof\n",
      "\n",
      "Loading required package: checkmate\n",
      "\n",
      "\n",
      "Attaching package: 'checkmate'\n",
      "\n",
      "\n",
      "The following object is masked from 'package:DiceKriging':\n",
      "\n",
      "    checkNames\n",
      "\n",
      "\n"
     ]
    }
   ],
   "source": [
    "#Ejemplo de optimizacion bayesiana, univariada\n",
    "\n",
    "#limpio la memoria\n",
    "rm( list=ls() )  #remove all objects\n",
    "gc()             #garbage collection\n",
    "\n",
    "require(\"data.table\")\n",
    "#paquetes necesarios para la Bayesian Optimization\n",
    "require(\"DiceKriging\")\n",
    "require(\"mlrMBO\")\n",
    "\n",
    "options(repr.plot.width=20, repr.plot.height=10)"
   ]
  },
  {
   "cell_type": "markdown",
   "metadata": {},
   "source": [
    "### Defino la funcion a optimizar, un polinomio de grado 4"
   ]
  },
  {
   "cell_type": "code",
   "execution_count": 17,
   "metadata": {
    "tags": [],
    "vscode": {
     "languageId": "r"
    }
   },
   "outputs": [],
   "source": [
    "func_univariada01  <- function( x )\n",
    "{\n",
    "  y  <- -2 * (x+13) * (x-3) * (x-7) * (x-19)\n",
    "\n",
    "  return( y )\n",
    "}"
   ]
  },
  {
   "cell_type": "markdown",
   "metadata": {},
   "source": [
    "Grafico la funcion"
   ]
  },
  {
   "cell_type": "code",
   "execution_count": 18,
   "metadata": {
    "tags": [],
    "vscode": {
     "languageId": "r"
    }
   },
   "outputs": [
    {
     "data": {
      "image/png": "[encoded data removed]",
      "text/plain": [
       "plot without title"
      ]
     },
     "metadata": {
      "image/png": {
       "height": 600,
       "width": 1200
      }
     },
     "output_type": "display_data"
    }
   ],
   "source": [
    "intervalo  <- seq(-15,21,0.1)\n",
    "plot(intervalo, func_univariada01(intervalo))"
   ]
  },
  {
   "cell_type": "markdown",
   "metadata": {},
   "source": [
    "La funcion tiene dos máximos, uno de ellos es el global."
   ]
  },
  {
   "cell_type": "markdown",
   "metadata": {},
   "source": [
    "### Optimizacion Bayesiana"
   ]
  },
  {
   "cell_type": "markdown",
   "metadata": {},
   "source": [
    "¿Qué tan rápido encontrará la Optmización Bayesiana el máximo global?"
   ]
  },
  {
   "cell_type": "markdown",
   "metadata": {},
   "source": [
    "Defino las caracteristicas de la optimizacion"
   ]
  },
  {
   "cell_type": "markdown",
   "metadata": {},
   "source": [
    "* **fn**    es el nombre de la funcion\n",
    "* **minimize**   por defecto es TRUE,  pero en este caso le asigno FALSE, ya que deseo maximizar  el valor\n",
    "* **par.set**  indica cuales son los hiperparmetros de la funcion, en este caso hay una sola variable que llamé  x\n",
    "---\n",
    "* **makeNumericParam** indica que ese hiperparámetro es un numero real, una variable continua  ( no es ni un entero ni una categoria )"
   ]
  },
  {
   "cell_type": "code",
   "execution_count": 19,
   "metadata": {
    "tags": [],
    "vscode": {
     "languageId": "r"
    }
   },
   "outputs": [],
   "source": [
    "obj.fun  <- makeSingleObjectiveFunction(\n",
    "              fn=       func_univariada01 ,\n",
    "              minimize= FALSE,   #estoy Maximizando la ganancia\n",
    "              par.set=  makeParamSet(  makeNumericParam( \"x\", lower= -100, upper=  100) ),\n",
    "             )"
   ]
  },
  {
   "cell_type": "markdown",
   "metadata": {},
   "source": [
    "ahora defino la funcion proxy, la que se construye internamente intentando emular la realidad"
   ]
  },
  {
   "cell_type": "markdown",
   "metadata": {},
   "source": [
    "* **cl**  es la clase de learner,  \"reg.km\" indica el método de kriging \"**reg**ression **k**riging **m**ethodd\"\n",
    "* **predict.type**  es el tipo de prediccion que deseo me devuelva, \"se\" significa que espero dos valores  media y standard error\n",
    "* **covtype**    es la funcion de covarianza que se va a utilizar, cual es la covarianza de dos mediciones como fucion de la distancia entre los puntos donde fueron tomadas las mediciones, fue inventada por Bertil Matérn "
   ]
  },
  {
   "cell_type": "markdown",
   "metadata": {},
   "source": [
    "El método de kriging puede verse en su forma original (la geología) , esta presentación https://www.youtube.com/watch?v=ZB7GvJrNKq0"
   ]
  },
  {
   "cell_type": "code",
   "execution_count": 20,
   "metadata": {
    "tags": [],
    "vscode": {
     "languageId": "r"
    }
   },
   "outputs": [],
   "source": [
    "fproxy  <- makeLearner( cl= \"regr.km\",\n",
    "                        predict.type= \"se\", \n",
    "                        covtype= \"matern3_2\" )"
   ]
  },
  {
   "cell_type": "markdown",
   "metadata": {},
   "source": [
    "ultima definicion,  especificar la optimizacion bayesiana\n",
    "*  **crit**   indica el criterio con el que se completan los valores iniciales \"no inteligentes\"\n",
    "*  **iters**  indica la cantidad de iteraciones inteligentes que hará la Optimizacion Bayesiana, las que son adicionales a las primeras cuatro de este caso.*  **iters**  indica la cantidad de iteraciones inteligentes que hará la Optimizacion Bayesiana, las que son adicionales a las primeras cuatro de este caso."
   ]
  },
  {
   "cell_type": "code",
   "execution_count": 21,
   "metadata": {
    "tags": [],
    "vscode": {
     "languageId": "r"
    }
   },
   "outputs": [],
   "source": [
    "ctrl  <- makeMBOControl()\n",
    "ctrl  <- setMBOControlInfill( ctrl, crit= makeMBOInfillCritEI())\n",
    "ctrl  <- setMBOControlTermination( ctrl, iters= 25 )"
   ]
  },
  {
   "cell_type": "markdown",
   "metadata": {},
   "source": [
    "finalmente , lanzo la Optimizacion Bayesiana"
   ]
  },
  {
   "cell_type": "markdown",
   "metadata": {},
   "source": [
    "* **fun**  es la especificacion de la funcion que deseo optimizar, si maximizo o minimizo, cuales son las variables de la misma\n",
    "* **learner**  especifica cual es la función proxy interna que va a utilizar la Optimziación Bayesiana\n",
    "* **control**  indica la la forma en que se harán las iteraciones"
   ]
  },
  {
   "cell_type": "code",
   "execution_count": 22,
   "metadata": {
    "tags": [],
    "vscode": {
     "languageId": "r"
    }
   },
   "outputs": [
    {
     "name": "stderr",
     "output_type": "stream",
     "text": [
      "Computing y column(s) for design. Not provided.\n",
      "\n",
      "[mbo] 0: x=-13.3 : y = -5.69e+03 : 0.2 secs : initdesign\n",
      "\n",
      "[mbo] 0: x=60.9 : y = -1.93e+07 : 0.0 secs : initdesign\n",
      "\n",
      "[mbo] 0: x=6.71 : y = -515 : 0.0 secs : initdesign\n",
      "\n",
      "[mbo] 0: x=-74.1 : y = -7.1e+07 : 0.0 secs : initdesign\n",
      "\n"
     ]
    },
    {
     "name": "stdout",
     "output_type": "stream",
     "text": [
      "\n",
      "optimisation start\n",
      "------------------\n",
      "* estimation method   : MLE \n",
      "* optimisation method : BFGS \n",
      "* analytical gradient : used\n",
      "* trend model : ~1\n",
      "* covariance model : \n",
      "  - type :  matern3_2 \n",
      "  - nugget : NO\n",
      "  - parameters lower bounds :  1e-10 \n",
      "  - parameters upper bounds :  269.8431 \n",
      "  - best initial criterion value(s) :  -73.88979 \n",
      "\n",
      "N = 1, M = 5 machine precision = 2.22045e-16\n",
      "At X0, 0 variables are exactly at the bounds\n",
      "At iterate     0  f=        73.89  |proj g|=    0.0012177\n",
      "At iterate     1  f =        73.89  |proj g|=     0.0012167\n",
      "At iterate     2  f =       73.889  |proj g|=    5.4627e-05\n",
      "At iterate     3  f =       73.889  |proj g|=    2.6225e-06\n",
      "At iterate     4  f =       73.889  |proj g|=    6.0833e-09\n",
      "\n",
      "iterations 4\n",
      "function evaluations 5\n",
      "segments explored during Cauchy searches 4\n",
      "BFGS updates skipped 0\n",
      "active bounds at final generalized Cauchy point 0\n",
      "norm of the final projected gradient 6.08332e-09\n",
      "final function value 73.8888\n",
      "\n",
      "F = 73.8888\n",
      "final  value 73.888828 \n",
      "converged\n"
     ]
    },
    {
     "name": "stderr",
     "output_type": "stream",
     "text": [
      "[mbo] 1: x=-3.75 : y = 3.06e+04 : 0.0 secs : infill_ei\n",
      "\n"
     ]
    },
    {
     "name": "stdout",
     "output_type": "stream",
     "text": [
      "\n",
      "optimisation start\n",
      "------------------\n",
      "* estimation method   : MLE \n",
      "* optimisation method : BFGS \n",
      "* analytical gradient : used\n",
      "* trend model : ~1\n",
      "* covariance model : \n",
      "  - type :  matern3_2 \n",
      "  - nugget : NO\n",
      "  - parameters lower bounds :  1e-10 \n",
      "  - parameters upper bounds :  269.8431 \n",
      "  - best initial criterion value(s) :  -90.1061 \n",
      "\n",
      "N = 1, M = 5 machine precision = 2.22045e-16\n",
      "At X0, 0 variables are exactly at the bounds\n",
      "At iterate     0  f=       90.106  |proj g|=   0.00036384\n",
      "At iterate     1  f =       90.106  |proj g|=    0.00036371\n",
      "\n",
      "iterations 1\n",
      "function evaluations 2\n",
      "segments explored during Cauchy searches 1\n",
      "BFGS updates skipped 0\n",
      "active bounds at final generalized Cauchy point 0\n",
      "norm of the final projected gradient 0.000363713\n",
      "final function value 90.1061\n",
      "\n",
      "F = 90.1061\n",
      "final  value 90.106105 \n",
      "converged\n"
     ]
    },
    {
     "name": "stderr",
     "output_type": "stream",
     "text": [
      "[mbo] 2: x=24.6 : y = -1.62e+05 : 0.0 secs : infill_ei\n",
      "\n"
     ]
    },
    {
     "name": "stdout",
     "output_type": "stream",
     "text": [
      "\n",
      "optimisation start\n",
      "------------------\n",
      "* estimation method   : MLE \n",
      "* optimisation method : BFGS \n",
      "* analytical gradient : used\n",
      "* trend model : ~1\n",
      "* covariance model : \n",
      "  - type :  matern3_2 \n",
      "  - nugget : NO\n",
      "  - parameters lower bounds :  1e-10 \n",
      "  - parameters upper bounds :  269.8431 \n",
      "  - best initial criterion value(s) :  -106.9558 \n",
      "\n",
      "N = 1, M = 5 machine precision = 2.22045e-16\n",
      "At X0, 0 variables are exactly at the bounds\n",
      "At iterate     0  f=       106.96  |proj g|=   0.00024814\n",
      "At iterate     1  f =       106.96  |proj g|=    0.00024808\n",
      "\n",
      "iterations 1\n",
      "function evaluations 2\n",
      "segments explored during Cauchy searches 1\n",
      "BFGS updates skipped 0\n",
      "active bounds at final generalized Cauchy point 0\n",
      "norm of the final projected gradient 0.000248084\n",
      "final function value 106.956\n",
      "\n",
      "F = 106.956\n",
      "final  value 106.955785 \n",
      "converged\n"
     ]
    },
    {
     "name": "stderr",
     "output_type": "stream",
     "text": [
      "[mbo] 3: x=16.5 : y = 1.89e+04 : 0.0 secs : infill_ei\n",
      "\n"
     ]
    },
    {
     "name": "stdout",
     "output_type": "stream",
     "text": [
      "\n",
      "optimisation start\n",
      "------------------\n",
      "* estimation method   : MLE \n",
      "* optimisation method : BFGS \n",
      "* analytical gradient : used\n",
      "* trend model : ~1\n",
      "* covariance model : \n",
      "  - type :  matern3_2 \n",
      "  - nugget : NO\n",
      "  - parameters lower bounds :  1e-10 \n",
      "  - parameters upper bounds :  269.8431 \n",
      "  - best initial criterion value(s) :  -122.1592 \n",
      "\n",
      "N = 1, M = 5 machine precision = 2.22045e-16\n",
      "At X0, 0 variables are exactly at the bounds\n",
      "At iterate     0  f=       122.16  |proj g|=   0.00017461\n",
      "At iterate     1  f =       122.16  |proj g|=    0.00017459\n",
      "\n",
      "iterations 1\n",
      "function evaluations 2\n",
      "segments explored during Cauchy searches 1\n",
      "BFGS updates skipped 0\n",
      "active bounds at final generalized Cauchy point 0\n",
      "norm of the final projected gradient 0.000174588\n",
      "final function value 122.159\n",
      "\n",
      "F = 122.159\n",
      "final  value 122.159200 \n",
      "converged\n"
     ]
    },
    {
     "name": "stderr",
     "output_type": "stream",
     "text": [
      "[mbo] 4: x=-9.15 : y = 4.25e+04 : 0.0 secs : infill_ei\n",
      "\n"
     ]
    },
    {
     "name": "stdout",
     "output_type": "stream",
     "text": [
      "\n",
      "optimisation start\n",
      "------------------\n",
      "* estimation method   : MLE \n",
      "* optimisation method : BFGS \n",
      "* analytical gradient : used\n",
      "* trend model : ~1\n",
      "* covariance model : \n",
      "  - type :  matern3_2 \n",
      "  - nugget : NO\n",
      "  - parameters lower bounds :  1e-10 \n",
      "  - parameters upper bounds :  269.8431 \n",
      "  - best initial criterion value(s) :  -136.4197 \n",
      "\n",
      "N = 1, M = 5 machine precision = 2.22045e-16\n",
      "At X0, 0 variables are exactly at the bounds\n",
      "At iterate     0  f=       136.42  |proj g|=   0.00021594\n",
      "At iterate     1  f =       136.42  |proj g|=    0.00021592\n",
      "\n",
      "iterations 1\n",
      "function evaluations 2\n",
      "segments explored during Cauchy searches 1\n",
      "BFGS updates skipped 0\n",
      "active bounds at final generalized Cauchy point 0\n",
      "norm of the final projected gradient 0.000215917\n",
      "final function value 136.42\n",
      "\n",
      "F = 136.42\n",
      "final  value 136.419682 \n",
      "converged\n"
     ]
    },
    {
     "name": "stderr",
     "output_type": "stream",
     "text": [
      "[mbo] 5: x=1.51 : y = 4.16e+03 : 0.0 secs : infill_ei\n",
      "\n"
     ]
    },
    {
     "name": "stdout",
     "output_type": "stream",
     "text": [
      "\n",
      "optimisation start\n",
      "------------------\n",
      "* estimation method   : MLE \n",
      "* optimisation method : BFGS \n",
      "* analytical gradient : used\n",
      "* trend model : ~1\n",
      "* covariance model : \n",
      "  - type :  matern3_2 \n",
      "  - nugget : NO\n",
      "  - parameters lower bounds :  1e-10 \n",
      "  - parameters upper bounds :  269.8431 \n",
      "  - best initial criterion value(s) :  -150.3928 \n",
      "\n",
      "N = 1, M = 5 machine precision = 2.22045e-16\n",
      "At X0, 0 variables are exactly at the bounds\n",
      "At iterate     0  f=       150.39  |proj g|=   4.7304e-06\n",
      "At iterate     1  f =       150.39  |proj g|=    4.7301e-06\n",
      "\n",
      "iterations 1\n",
      "function evaluations 2\n",
      "segments explored during Cauchy searches 1\n",
      "BFGS updates skipped 0\n",
      "active bounds at final generalized Cauchy point 0\n",
      "norm of the final projected gradient 4.73006e-06\n",
      "final function value 150.393\n",
      "\n",
      "F = 150.393\n",
      "final  value 150.392811 \n",
      "converged\n"
     ]
    },
    {
     "name": "stderr",
     "output_type": "stream",
     "text": [
      "[mbo] 6: x=20.5 : y = -2.45e+04 : 0.0 secs : infill_ei\n",
      "\n"
     ]
    },
    {
     "name": "stdout",
     "output_type": "stream",
     "text": [
      "\n",
      "optimisation start\n",
      "------------------\n",
      "* estimation method   : MLE \n",
      "* optimisation method : BFGS \n",
      "* analytical gradient : used\n",
      "* trend model : ~1\n",
      "* covariance model : \n",
      "  - type :  matern3_2 \n",
      "  - nugget : NO\n",
      "  - parameters lower bounds :  1e-10 \n",
      "  - parameters upper bounds :  269.8431 \n",
      "  - best initial criterion value(s) :  -164.102 \n",
      "\n",
      "N = 1, M = 5 machine precision = 2.22045e-16\n",
      "At X0, 0 variables are exactly at the bounds\n",
      "At iterate     0  f=        164.1  |proj g|=    0.0016113\n",
      "At iterate     1  f =        164.1  |proj g|=     0.0016112\n",
      "At iterate     2  f =       164.08  |proj g|=     0.0002884\n",
      "At iterate     3  f =       164.08  |proj g|=    6.3617e-05\n",
      "At iterate     4  f =       164.08  |proj g|=    3.3909e-06\n",
      "At iterate     5  f =       164.08  |proj g|=    4.2673e-08\n",
      "\n",
      "iterations 5\n",
      "function evaluations 6\n",
      "segments explored during Cauchy searches 5\n",
      "BFGS updates skipped 0\n",
      "active bounds at final generalized Cauchy point 0\n",
      "norm of the final projected gradient 4.2673e-08\n",
      "final function value 164.083\n",
      "\n",
      "F = 164.083\n",
      "final  value 164.083264 \n",
      "converged\n"
     ]
    },
    {
     "name": "stderr",
     "output_type": "stream",
     "text": [
      "[mbo] 7: x=11.7 : y = 1.47e+04 : 0.0 secs : infill_ei\n",
      "\n"
     ]
    },
    {
     "name": "stdout",
     "output_type": "stream",
     "text": [
      "\n",
      "optimisation start\n",
      "------------------\n",
      "* estimation method   : MLE \n",
      "* optimisation method : BFGS \n",
      "* analytical gradient : used\n",
      "* trend model : ~1\n",
      "* covariance model : \n",
      "  - type :  matern3_2 \n",
      "  - nugget : NO\n",
      "  - parameters lower bounds :  1e-10 \n",
      "  - parameters upper bounds :  269.8431 \n",
      "  - best initial criterion value(s) :  -177.6956 \n",
      "\n",
      "N = 1, M = 5 machine precision = 2.22045e-16\n",
      "At X0, 0 variables are exactly at the bounds\n",
      "At iterate     0  f=        177.7  |proj g|=   0.00034743\n",
      "At iterate     1  f =        177.7  |proj g|=    0.00034742\n",
      "\n",
      "iterations 1\n",
      "function evaluations 2\n",
      "segments explored during Cauchy searches 1\n",
      "BFGS updates skipped 0\n",
      "active bounds at final generalized Cauchy point 0\n",
      "norm of the final projected gradient 0.00034742\n",
      "final function value 177.696\n",
      "\n",
      "F = 177.696\n",
      "final  value 177.695564 \n",
      "converged\n"
     ]
    },
    {
     "name": "stderr",
     "output_type": "stream",
     "text": [
      "[mbo] 8: x=-11.3 : y = 2.71e+04 : 0.0 secs : infill_ei\n",
      "\n"
     ]
    },
    {
     "name": "stdout",
     "output_type": "stream",
     "text": [
      "\n",
      "optimisation start\n",
      "------------------\n",
      "* estimation method   : MLE \n",
      "* optimisation method : BFGS \n",
      "* analytical gradient : used\n",
      "* trend model : ~1\n",
      "* covariance model : \n",
      "  - type :  matern3_2 \n",
      "  - nugget : NO\n",
      "  - parameters lower bounds :  1e-10 \n",
      "  - parameters upper bounds :  269.8431 \n",
      "  - best initial criterion value(s) :  -190.3054 \n",
      "\n",
      "N = 1, M = 5 machine precision = 2.22045e-16\n",
      "At X0, 0 variables are exactly at the bounds\n",
      "At iterate     0  f=       190.31  |proj g|=   1.4031e-07\n",
      "At iterate     1  f =       190.31  |proj g|=     1.403e-07\n",
      "\n",
      "iterations 1\n",
      "function evaluations 2\n",
      "segments explored during Cauchy searches 1\n",
      "BFGS updates skipped 0\n",
      "active bounds at final generalized Cauchy point 0\n",
      "norm of the final projected gradient 1.40301e-07\n",
      "final function value 190.305\n",
      "\n",
      "F = 190.305\n",
      "final  value 190.305412 \n",
      "converged\n"
     ]
    },
    {
     "name": "stderr",
     "output_type": "stream",
     "text": [
      "[mbo] 9: x=-6.45 : y = 4.24e+04 : 0.0 secs : infill_ei\n",
      "\n"
     ]
    },
    {
     "name": "stdout",
     "output_type": "stream",
     "text": [
      "\n",
      "optimisation start\n",
      "------------------\n",
      "* estimation method   : MLE \n",
      "* optimisation method : BFGS \n",
      "* analytical gradient : used\n",
      "* trend model : ~1\n",
      "* covariance model : \n",
      "  - type :  matern3_2 \n",
      "  - nugget : NO\n",
      "  - parameters lower bounds :  1e-10 \n",
      "  - parameters upper bounds :  269.8431 \n",
      "  - best initial criterion value(s) :  -202.9436 \n",
      "\n",
      "N = 1, M = 5 machine precision = 2.22045e-16\n",
      "At X0, 0 variables are exactly at the bounds\n",
      "At iterate     0  f=       202.94  |proj g|=   0.00086465\n",
      "At iterate     1  f =       202.94  |proj g|=    0.00086461\n",
      "At iterate     2  f =       202.94  |proj g|=             0\n",
      "\n",
      "iterations 2\n",
      "function evaluations 3\n",
      "segments explored during Cauchy searches 2\n",
      "BFGS updates skipped 0\n",
      "active bounds at final generalized Cauchy point 1\n",
      "norm of the final projected gradient 0\n",
      "final function value 202.937\n",
      "\n",
      "F = 202.937\n",
      "final  value 202.936644 \n",
      "converged\n"
     ]
    },
    {
     "name": "stderr",
     "output_type": "stream",
     "text": [
      "[mbo] 10: x=-1.19 : y = 1.64e+04 : 0.0 secs : infill_ei\n",
      "\n"
     ]
    },
    {
     "name": "stdout",
     "output_type": "stream",
     "text": [
      "\n",
      "optimisation start\n",
      "------------------\n",
      "* estimation method   : MLE \n",
      "* optimisation method : BFGS \n",
      "* analytical gradient : used\n",
      "* trend model : ~1\n",
      "* covariance model : \n",
      "  - type :  matern3_2 \n",
      "  - nugget : NO\n",
      "  - parameters lower bounds :  1e-10 \n",
      "  - parameters upper bounds :  269.8431 \n",
      "  - best initial criterion value(s) :  -215.5165 \n",
      "\n",
      "N = 1, M = 5 machine precision = 2.22045e-16\n",
      "At X0, 0 variables are exactly at the bounds\n",
      "At iterate     0  f=       215.52  |proj g|=    0.0015843\n",
      "At iterate     1  f =       215.52  |proj g|=     0.0015843\n",
      "At iterate     2  f =       215.51  |proj g|=             0\n",
      "\n",
      "iterations 2\n",
      "function evaluations 3\n",
      "segments explored during Cauchy searches 2\n",
      "BFGS updates skipped 0\n",
      "active bounds at final generalized Cauchy point 1\n",
      "norm of the final projected gradient 0\n",
      "final function value 215.507\n",
      "\n",
      "F = 215.507\n",
      "final  value 215.507061 \n",
      "converged\n"
     ]
    },
    {
     "name": "stderr",
     "output_type": "stream",
     "text": [
      "[mbo] 11: x=14.1 : y = 2.1e+04 : 0.0 secs : infill_ei\n",
      "\n"
     ]
    },
    {
     "name": "stdout",
     "output_type": "stream",
     "text": [
      "\n",
      "optimisation start\n",
      "------------------\n",
      "* estimation method   : MLE \n",
      "* optimisation method : BFGS \n",
      "* analytical gradient : used\n",
      "* trend model : ~1\n",
      "* covariance model : \n",
      "  - type :  matern3_2 \n",
      "  - nugget : NO\n",
      "  - parameters lower bounds :  1e-10 \n",
      "  - parameters upper bounds :  269.8431 \n",
      "  - best initial criterion value(s) :  -227.9838 \n",
      "\n",
      "N = 1, M = 5 machine precision = 2.22045e-16\n",
      "At X0, 0 variables are exactly at the bounds\n",
      "At iterate     0  f=       227.98  |proj g|=    0.0026798\n",
      "At iterate     1  f =       227.98  |proj g|=     0.0026797\n",
      "At iterate     2  f =       227.96  |proj g|=             0\n",
      "\n",
      "iterations 2\n",
      "function evaluations 3\n",
      "segments explored during Cauchy searches 2\n",
      "BFGS updates skipped 0\n",
      "active bounds at final generalized Cauchy point 1\n",
      "norm of the final projected gradient 0\n",
      "final function value 227.956\n",
      "\n",
      "F = 227.956\n",
      "final  value 227.955862 \n",
      "converged\n"
     ]
    },
    {
     "name": "stderr",
     "output_type": "stream",
     "text": [
      "[mbo] 12: x=9.21 : y = 5.98e+03 : 0.0 secs : infill_ei\n",
      "\n"
     ]
    },
    {
     "name": "stdout",
     "output_type": "stream",
     "text": [
      "\n",
      "optimisation start\n",
      "------------------\n",
      "* estimation method   : MLE \n",
      "* optimisation method : BFGS \n",
      "* analytical gradient : used\n",
      "* trend model : ~1\n",
      "* covariance model : \n",
      "  - type :  matern3_2 \n",
      "  - nugget : NO\n",
      "  - parameters lower bounds :  1e-10 \n",
      "  - parameters upper bounds :  269.8431 \n",
      "  - best initial criterion value(s) :  -240.545 \n",
      "\n",
      "N = 1, M = 5 machine precision = 2.22045e-16\n",
      "At X0, 0 variables are exactly at the bounds\n",
      "At iterate     0  f=       240.54  |proj g|=    0.0056149\n",
      "At iterate     1  f =       240.54  |proj g|=     0.0056144\n",
      "At iterate     2  f =       240.38  |proj g|=             0\n",
      "\n",
      "iterations 2\n",
      "function evaluations 3\n",
      "segments explored during Cauchy searches 2\n",
      "BFGS updates skipped 0\n",
      "active bounds at final generalized Cauchy point 1\n",
      "norm of the final projected gradient 0\n",
      "final function value 240.376\n",
      "\n",
      "F = 240.376\n",
      "final  value 240.376044 \n",
      "converged\n"
     ]
    },
    {
     "name": "stderr",
     "output_type": "stream",
     "text": [
      "[mbo] 13: x=4.09 : y = -1.61e+03 : 0.0 secs : infill_ei\n",
      "\n"
     ]
    },
    {
     "name": "stdout",
     "output_type": "stream",
     "text": [
      "\n",
      "optimisation start\n",
      "------------------\n",
      "* estimation method   : MLE \n",
      "* optimisation method : BFGS \n",
      "* analytical gradient : used\n",
      "* trend model : ~1\n",
      "* covariance model : \n",
      "  - type :  matern3_2 \n",
      "  - nugget : NO\n",
      "  - parameters lower bounds :  1e-10 \n",
      "  - parameters upper bounds :  269.8431 \n",
      "  - best initial criterion value(s) :  -252.8072 \n",
      "\n",
      "N = 1, M = 5 machine precision = 2.22045e-16\n",
      "At X0, 0 variables are exactly at the bounds\n",
      "At iterate     0  f=       252.81  |proj g|=    0.0041913\n",
      "At iterate     1  f =       252.81  |proj g|=     0.0041911\n",
      "At iterate     2  f =       252.78  |proj g|=             0\n",
      "\n",
      "iterations 2\n",
      "function evaluations 3\n",
      "segments explored during Cauchy searches 2\n",
      "BFGS updates skipped 0\n",
      "active bounds at final generalized Cauchy point 1\n",
      "norm of the final projected gradient 0\n",
      "final function value 252.777\n",
      "\n",
      "F = 252.777\n",
      "final  value 252.776929 \n",
      "converged\n"
     ]
    },
    {
     "name": "stderr",
     "output_type": "stream",
     "text": [
      "[mbo] 14: x=-7.81 : y = 4.46e+04 : 0.0 secs : infill_ei\n",
      "\n"
     ]
    },
    {
     "name": "stdout",
     "output_type": "stream",
     "text": [
      "\n",
      "optimisation start\n",
      "------------------\n",
      "* estimation method   : MLE \n",
      "* optimisation method : BFGS \n",
      "* analytical gradient : used\n",
      "* trend model : ~1\n",
      "* covariance model : \n",
      "  - type :  matern3_2 \n",
      "  - nugget : NO\n",
      "  - parameters lower bounds :  1e-10 \n",
      "  - parameters upper bounds :  269.8431 \n",
      "  - best initial criterion value(s) :  -264.2715 \n",
      "\n",
      "N = 1, M = 5 machine precision = 2.22045e-16\n",
      "At X0, 0 variables are exactly at the bounds\n",
      "At iterate     0  f=       264.27  |proj g|=     0.004732\n",
      "At iterate     1  f =       264.27  |proj g|=     0.0047317\n",
      "At iterate     2  f =       264.26  |proj g|=             0\n",
      "\n",
      "iterations 2\n",
      "function evaluations 3\n",
      "segments explored during Cauchy searches 2\n",
      "BFGS updates skipped 0\n",
      "active bounds at final generalized Cauchy point 1\n",
      "norm of the final projected gradient 0\n",
      "final function value 264.258\n",
      "\n",
      "F = 264.258\n",
      "final  value 264.258368 \n",
      "converged\n"
     ]
    },
    {
     "name": "stderr",
     "output_type": "stream",
     "text": [
      "[mbo] 15: x=-5.17 : y = 3.76e+04 : 0.0 secs : infill_ei\n",
      "\n"
     ]
    },
    {
     "name": "stdout",
     "output_type": "stream",
     "text": [
      "\n",
      "optimisation start\n",
      "------------------\n",
      "* estimation method   : MLE \n",
      "* optimisation method : BFGS \n",
      "* analytical gradient : used\n",
      "* trend model : ~1\n",
      "* covariance model : \n",
      "  - type :  matern3_2 \n",
      "  - nugget : NO\n",
      "  - parameters lower bounds :  1e-10 \n",
      "  - parameters upper bounds :  269.8431 \n",
      "  - best initial criterion value(s) :  -275.7049 \n",
      "\n",
      "N = 1, M = 5 machine precision = 2.22045e-16\n",
      "At X0, 0 variables are exactly at the bounds\n",
      "At iterate     0  f=        275.7  |proj g|=    0.0058804\n",
      "At iterate     1  f =        275.7  |proj g|=       0.00588\n",
      "At iterate     2  f =       275.66  |proj g|=             0\n",
      "\n",
      "iterations 2\n",
      "function evaluations 3\n",
      "segments explored during Cauchy searches 2\n",
      "BFGS updates skipped 0\n",
      "active bounds at final generalized Cauchy point 1\n",
      "norm of the final projected gradient 0\n",
      "final function value 275.664\n",
      "\n",
      "F = 275.664\n",
      "final  value 275.663534 \n",
      "converged\n"
     ]
    },
    {
     "name": "stderr",
     "output_type": "stream",
     "text": [
      "[mbo] 16: x=18.3 : y = 7.42e+03 : 0.0 secs : infill_ei\n",
      "\n"
     ]
    },
    {
     "name": "stdout",
     "output_type": "stream",
     "text": [
      "\n",
      "optimisation start\n",
      "------------------\n",
      "* estimation method   : MLE \n",
      "* optimisation method : BFGS \n",
      "* analytical gradient : used\n",
      "* trend model : ~1\n",
      "* covariance model : \n",
      "  - type :  matern3_2 \n",
      "  - nugget : NO\n",
      "  - parameters lower bounds :  1e-10 \n",
      "  - parameters upper bounds :  269.8431 \n",
      "  - best initial criterion value(s) :  -287.8091 \n",
      "\n",
      "N = 1, M = 5 machine precision = 2.22045e-16\n",
      "At X0, 0 variables are exactly at the bounds\n",
      "At iterate     0  f=       287.81  |proj g|=    0.0079156\n",
      "At iterate     1  f =       287.81  |proj g|=     0.0079148\n",
      "At iterate     2  f =       287.66  |proj g|=             0\n",
      "\n",
      "iterations 2\n",
      "function evaluations 3\n",
      "segments explored during Cauchy searches 2\n",
      "BFGS updates skipped 0\n",
      "active bounds at final generalized Cauchy point 1\n",
      "norm of the final projected gradient 0\n",
      "final function value 287.662\n",
      "\n",
      "F = 287.662\n",
      "final  value 287.662474 \n",
      "converged\n"
     ]
    },
    {
     "name": "stderr",
     "output_type": "stream",
     "text": [
      "[mbo] 17: x=-10.1 : y = 3.8e+04 : 0.0 secs : infill_ei\n",
      "\n"
     ]
    },
    {
     "name": "stdout",
     "output_type": "stream",
     "text": [
      "\n",
      "optimisation start\n",
      "------------------\n",
      "* estimation method   : MLE \n",
      "* optimisation method : BFGS \n",
      "* analytical gradient : used\n",
      "* trend model : ~1\n",
      "* covariance model : \n",
      "  - type :  matern3_2 \n",
      "  - nugget : NO\n",
      "  - parameters lower bounds :  1e-10 \n",
      "  - parameters upper bounds :  269.8431 \n",
      "  - best initial criterion value(s) :  -299.3145 \n",
      "\n",
      "N = 1, M = 5 machine precision = 2.22045e-16\n",
      "At X0, 0 variables are exactly at the bounds\n",
      "At iterate     0  f=       299.31  |proj g|=     0.014686\n",
      "At iterate     1  f =       299.31  |proj g|=      0.014683\n",
      "At iterate     2  f =       298.67  |proj g|=             0\n",
      "\n",
      "iterations 2\n",
      "function evaluations 3\n",
      "segments explored during Cauchy searches 2\n",
      "BFGS updates skipped 0\n",
      "active bounds at final generalized Cauchy point 1\n",
      "norm of the final projected gradient 0\n",
      "final function value 298.671\n",
      "\n",
      "F = 298.671\n",
      "final  value 298.670536 \n",
      "converged\n"
     ]
    },
    {
     "name": "stderr",
     "output_type": "stream",
     "text": [
      "[mbo] 18: x=-2.54 : y = 2.38e+04 : 0.0 secs : infill_ei\n",
      "\n"
     ]
    },
    {
     "name": "stdout",
     "output_type": "stream",
     "text": [
      "\n",
      "optimisation start\n",
      "------------------\n",
      "* estimation method   : MLE \n",
      "* optimisation method : BFGS \n",
      "* analytical gradient : used\n",
      "* trend model : ~1\n",
      "* covariance model : \n",
      "  - type :  matern3_2 \n",
      "  - nugget : NO\n",
      "  - parameters lower bounds :  1e-10 \n",
      "  - parameters upper bounds :  269.8431 \n",
      "  - best initial criterion value(s) :  -309.9359 \n",
      "\n",
      "N = 1, M = 5 machine precision = 2.22045e-16\n",
      "At X0, 0 variables are exactly at the bounds\n",
      "At iterate     0  f=       309.94  |proj g|=    0.0077817\n",
      "At iterate     1  f =       309.94  |proj g|=     0.0077811\n",
      "At iterate     2  f =       309.94  |proj g|=             0\n",
      "\n",
      "iterations 2\n",
      "function evaluations 3\n",
      "segments explored during Cauchy searches 2\n",
      "BFGS updates skipped 0\n",
      "active bounds at final generalized Cauchy point 1\n",
      "norm of the final projected gradient 0\n",
      "final function value 309.936\n",
      "\n",
      "F = 309.936\n",
      "final  value 309.935508 \n",
      "converged\n"
     ]
    },
    {
     "name": "stderr",
     "output_type": "stream",
     "text": [
      "[mbo] 19: x=-7.17 : y = 4.4e+04 : 0.0 secs : infill_ei\n",
      "\n"
     ]
    },
    {
     "name": "stdout",
     "output_type": "stream",
     "text": [
      "\n",
      "optimisation start\n",
      "------------------\n",
      "* estimation method   : MLE \n",
      "* optimisation method : BFGS \n",
      "* analytical gradient : used\n",
      "* trend model : ~1\n",
      "* covariance model : \n",
      "  - type :  matern3_2 \n",
      "  - nugget : NO\n",
      "  - parameters lower bounds :  1e-10 \n",
      "  - parameters upper bounds :  269.8431 \n",
      "  - best initial criterion value(s) :  -320.2766 \n",
      "\n",
      "N = 1, M = 5 machine precision = 2.22045e-16\n",
      "At X0, 0 variables are exactly at the bounds\n",
      "At iterate     0  f=       320.28  |proj g|=    0.0086593\n",
      "At iterate     1  f =       320.28  |proj g|=     0.0086585\n",
      "At iterate     2  f =       320.27  |proj g|=             0\n",
      "\n",
      "iterations 2\n",
      "function evaluations 3\n",
      "segments explored during Cauchy searches 2\n",
      "BFGS updates skipped 0\n",
      "active bounds at final generalized Cauchy point 1\n",
      "norm of the final projected gradient 0\n",
      "final function value 320.27\n",
      "\n",
      "F = 320.27\n",
      "final  value 320.269505 \n",
      "converged\n"
     ]
    },
    {
     "name": "stderr",
     "output_type": "stream",
     "text": [
      "[mbo] 20: x=-8.46 : y = 4.42e+04 : 0.0 secs : infill_ei\n",
      "\n"
     ]
    },
    {
     "name": "stdout",
     "output_type": "stream",
     "text": [
      "\n",
      "optimisation start\n",
      "------------------\n",
      "* estimation method   : MLE \n",
      "* optimisation method : BFGS \n",
      "* analytical gradient : used\n",
      "* trend model : ~1\n",
      "* covariance model : \n",
      "  - type :  matern3_2 \n",
      "  - nugget : NO\n",
      "  - parameters lower bounds :  1e-10 \n",
      "  - parameters upper bounds :  269.8431 \n",
      "  - best initial criterion value(s) :  -330.6337 \n",
      "\n",
      "N = 1, M = 5 machine precision = 2.22045e-16\n",
      "At X0, 0 variables are exactly at the bounds\n",
      "At iterate     0  f=       330.63  |proj g|=     0.010952\n",
      "At iterate     1  f =       330.63  |proj g|=       0.01095\n",
      "At iterate     2  f =       330.48  |proj g|=             0\n",
      "\n",
      "iterations 2\n",
      "function evaluations 3\n",
      "segments explored during Cauchy searches 2\n",
      "BFGS updates skipped 0\n",
      "active bounds at final generalized Cauchy point 1\n",
      "norm of the final projected gradient 0\n",
      "final function value 330.484\n",
      "\n",
      "F = 330.484\n",
      "final  value 330.484220 \n",
      "converged\n"
     ]
    },
    {
     "name": "stderr",
     "output_type": "stream",
     "text": [
      "[mbo] 21: x=15.3 : y = 2.14e+04 : 0.0 secs : infill_ei\n",
      "\n"
     ]
    },
    {
     "name": "stdout",
     "output_type": "stream",
     "text": [
      "\n",
      "optimisation start\n",
      "------------------\n",
      "* estimation method   : MLE \n",
      "* optimisation method : BFGS \n",
      "* analytical gradient : used\n",
      "* trend model : ~1\n",
      "* covariance model : \n",
      "  - type :  matern3_2 \n",
      "  - nugget : NO\n",
      "  - parameters lower bounds :  1e-10 \n",
      "  - parameters upper bounds :  269.8431 \n",
      "  - best initial criterion value(s) :  -341.687 \n",
      "\n",
      "N = 1, M = 5 machine precision = 2.22045e-16\n",
      "At X0, 0 variables are exactly at the bounds\n",
      "At iterate     0  f=       341.69  |proj g|=     0.011008\n",
      "At iterate     1  f =       341.69  |proj g|=      0.011007\n",
      "At iterate     2  f =       341.61  |proj g|=             0\n",
      "\n",
      "iterations 2\n",
      "function evaluations 3\n",
      "segments explored during Cauchy searches 2\n",
      "BFGS updates skipped 0\n",
      "active bounds at final generalized Cauchy point 1\n",
      "norm of the final projected gradient 0\n",
      "final function value 341.607\n",
      "\n",
      "F = 341.607\n",
      "final  value 341.607001 \n",
      "converged\n"
     ]
    },
    {
     "name": "stderr",
     "output_type": "stream",
     "text": [
      "[mbo] 22: x=-5.85 : y = 4.04e+04 : 0.0 secs : infill_ei\n",
      "\n"
     ]
    },
    {
     "name": "stdout",
     "output_type": "stream",
     "text": [
      "\n",
      "optimisation start\n",
      "------------------\n",
      "* estimation method   : MLE \n",
      "* optimisation method : BFGS \n",
      "* analytical gradient : used\n",
      "* trend model : ~1\n",
      "* covariance model : \n",
      "  - type :  matern3_2 \n",
      "  - nugget : NO\n",
      "  - parameters lower bounds :  1e-10 \n",
      "  - parameters upper bounds :  269.8431 \n",
      "  - best initial criterion value(s) :  -351.8921 \n",
      "\n",
      "N = 1, M = 5 machine precision = 2.22045e-16\n",
      "At X0, 0 variables are exactly at the bounds\n",
      "At iterate     0  f=       351.89  |proj g|=     0.012416\n",
      "At iterate     1  f =       351.89  |proj g|=      0.012414\n",
      "At iterate     2  f =       351.75  |proj g|=             0\n",
      "\n",
      "iterations 2\n",
      "function evaluations 3\n",
      "segments explored during Cauchy searches 2\n",
      "BFGS updates skipped 0\n",
      "active bounds at final generalized Cauchy point 1\n",
      "norm of the final projected gradient 0\n",
      "final function value 351.751\n",
      "\n",
      "F = 351.751\n",
      "final  value 351.750974 \n",
      "converged\n"
     ]
    },
    {
     "name": "stderr",
     "output_type": "stream",
     "text": [
      "[mbo] 23: x=12.9 : y = 1.85e+04 : 0.0 secs : infill_ei\n",
      "\n"
     ]
    },
    {
     "name": "stdout",
     "output_type": "stream",
     "text": [
      "\n",
      "optimisation start\n",
      "------------------\n",
      "* estimation method   : MLE \n",
      "* optimisation method : BFGS \n",
      "* analytical gradient : used\n",
      "* trend model : ~1\n",
      "* covariance model : \n",
      "  - type :  matern3_2 \n",
      "  - nugget : NO\n",
      "  - parameters lower bounds :  1e-10 \n",
      "  - parameters upper bounds :  269.8431 \n",
      "  - best initial criterion value(s) :  -362.8986 \n",
      "\n",
      "N = 1, M = 5 machine precision = 2.22045e-16\n",
      "At X0, 0 variables are exactly at the bounds\n",
      "At iterate     0  f=        362.9  |proj g|=     0.012519\n",
      "At iterate     1  f =        362.9  |proj g|=      0.012518\n",
      "At iterate     2  f =       362.83  |proj g|=             0\n",
      "\n",
      "iterations 2\n",
      "function evaluations 3\n",
      "segments explored during Cauchy searches 2\n",
      "BFGS updates skipped 0\n",
      "active bounds at final generalized Cauchy point 1\n",
      "norm of the final projected gradient 0\n",
      "final function value 362.826\n",
      "\n",
      "F = 362.826\n",
      "final  value 362.826003 \n",
      "converged\n"
     ]
    },
    {
     "name": "stderr",
     "output_type": "stream",
     "text": [
      "[mbo] 24: x=-12.2 : y = 1.4e+04 : 0.0 secs : infill_ei\n",
      "\n"
     ]
    },
    {
     "name": "stdout",
     "output_type": "stream",
     "text": [
      "\n",
      "optimisation start\n",
      "------------------\n",
      "* estimation method   : MLE \n",
      "* optimisation method : BFGS \n",
      "* analytical gradient : used\n",
      "* trend model : ~1\n",
      "* covariance model : \n",
      "  - type :  matern3_2 \n",
      "  - nugget : NO\n",
      "  - parameters lower bounds :  1e-10 \n",
      "  - parameters upper bounds :  269.8431 \n",
      "  - best initial criterion value(s) :  -373.926 \n",
      "\n",
      "N = 1, M = 5 machine precision = 2.22045e-16\n",
      "At X0, 0 variables are exactly at the bounds\n",
      "At iterate     0  f=       373.93  |proj g|=     0.013687\n",
      "At iterate     1  f =       373.93  |proj g|=      0.013685\n",
      "At iterate     2  f =       373.81  |proj g|=             0\n",
      "\n",
      "iterations 2\n",
      "function evaluations 3\n",
      "segments explored during Cauchy searches 2\n",
      "BFGS updates skipped 0\n",
      "active bounds at final generalized Cauchy point 1\n",
      "norm of the final projected gradient 0\n",
      "final function value 373.811\n",
      "\n",
      "F = 373.811\n",
      "final  value 373.811332 \n",
      "converged\n"
     ]
    },
    {
     "name": "stderr",
     "output_type": "stream",
     "text": [
      "[mbo] 25: x=0.122 : y = 9.81e+03 : 0.0 secs : infill_ei\n",
      "\n"
     ]
    },
    {
     "name": "stdout",
     "output_type": "stream",
     "text": [
      "\n",
      "optimisation start\n",
      "------------------\n",
      "* estimation method   : MLE \n",
      "* optimisation method : BFGS \n",
      "* analytical gradient : used\n",
      "* trend model : ~1\n",
      "* covariance model : \n",
      "  - type :  matern3_2 \n",
      "  - nugget : NO\n",
      "  - parameters lower bounds :  1e-10 \n",
      "  - parameters upper bounds :  269.8431 \n",
      "  - best initial criterion value(s) :  -385.0468 \n",
      "\n",
      "N = 1, M = 5 machine precision = 2.22045e-16\n",
      "At X0, 0 variables are exactly at the bounds\n",
      "At iterate     0  f=       385.05  |proj g|=     0.013767\n",
      "At iterate     1  f =       385.05  |proj g|=      0.013765\n",
      "At iterate     2  f =       385.01  |proj g|=             0\n",
      "\n",
      "iterations 2\n",
      "function evaluations 3\n",
      "segments explored during Cauchy searches 2\n",
      "BFGS updates skipped 0\n",
      "active bounds at final generalized Cauchy point 1\n",
      "norm of the final projected gradient 0\n",
      "final function value 385.006\n",
      "\n",
      "F = 385.006\n",
      "final  value 385.006499 \n",
      "converged\n"
     ]
    }
   ],
   "source": [
    "run  <- mbo( fun=      obj.fun, \n",
    "             learner= fproxy, \n",
    "             control= ctrl )"
   ]
  },
  {
   "cell_type": "code",
   "execution_count": 23,
   "metadata": {
    "tags": [],
    "vscode": {
     "languageId": "r"
    }
   },
   "outputs": [],
   "source": [
    "tb_resultados  <- as.data.table( run$opt.path )"
   ]
  },
  {
   "cell_type": "code",
   "execution_count": 24,
   "metadata": {
    "tags": [],
    "vscode": {
     "languageId": "r"
    }
   },
   "outputs": [
    {
     "data": {
      "text/html": [
       "<table class=\"dataframe\">\n",
       "<caption>A data.table: 29 × 13</caption>\n",
       "<thead>\n",
       "\t<tr><th scope=col>x</th><th scope=col>y</th><th scope=col>dob</th><th scope=col>eol</th><th scope=col>error.message</th><th scope=col>exec.time</th><th scope=col>ei</th><th scope=col>error.model</th><th scope=col>train.time</th><th scope=col>prop.type</th><th scope=col>propose.time</th><th scope=col>se</th><th scope=col>mean</th></tr>\n",
       "\t<tr><th scope=col>&lt;dbl&gt;</th><th scope=col>&lt;dbl&gt;</th><th scope=col>&lt;int&gt;</th><th scope=col>&lt;int&gt;</th><th scope=col>&lt;chr&gt;</th><th scope=col>&lt;dbl&gt;</th><th scope=col>&lt;dbl&gt;</th><th scope=col>&lt;chr&gt;</th><th scope=col>&lt;dbl&gt;</th><th scope=col>&lt;chr&gt;</th><th scope=col>&lt;dbl&gt;</th><th scope=col>&lt;dbl&gt;</th><th scope=col>&lt;dbl&gt;</th></tr>\n",
       "</thead>\n",
       "<tbody>\n",
       "\t<tr><td>-13.2675349</td><td>-5.692446e+03</td><td> 0</td><td>NA</td><td>NA</td><td>0.2</td><td>          NA</td><td>NA</td><td>  NA</td><td>initdesign</td><td>  NA</td><td>        NA</td><td>          NA</td></tr>\n",
       "\t<tr><td> 60.8625839</td><td>-1.927372e+07</td><td> 0</td><td>NA</td><td>NA</td><td>0.0</td><td>          NA</td><td>NA</td><td>  NA</td><td>initdesign</td><td>  NA</td><td>        NA</td><td>          NA</td></tr>\n",
       "\t<tr><td>  6.7137710</td><td>-5.149287e+02</td><td> 0</td><td>NA</td><td>NA</td><td>0.0</td><td>          NA</td><td>NA</td><td>  NA</td><td>initdesign</td><td>  NA</td><td>        NA</td><td>          NA</td></tr>\n",
       "\t<tr><td>-74.0589631</td><td>-7.098422e+07</td><td> 0</td><td>NA</td><td>NA</td><td>0.0</td><td>          NA</td><td>NA</td><td>  NA</td><td>initdesign</td><td>  NA</td><td>        NA</td><td>          NA</td></tr>\n",
       "\t<tr><td> -3.7521577</td><td> 3.055141e+04</td><td> 1</td><td>NA</td><td>NA</td><td>0.0</td><td>-3395617.875</td><td>NA</td><td>0.30</td><td>infill_ei </td><td>1.03</td><td>5455051.49</td><td> 2114971.239</td></tr>\n",
       "\t<tr><td> 24.6358746</td><td>-1.618694e+05</td><td> 2</td><td>NA</td><td>NA</td><td>0.0</td><td>-1529130.860</td><td>NA</td><td>0.05</td><td>infill_ei </td><td>0.50</td><td>8109871.21</td><td>-4271660.926</td></tr>\n",
       "\t<tr><td> 16.5060678</td><td> 1.889539e+04</td><td> 3</td><td>NA</td><td>NA</td><td>0.0</td><td> -930166.023</td><td>NA</td><td>0.09</td><td>infill_ei </td><td>1.08</td><td>1711483.83</td><td>  478756.349</td></tr>\n",
       "\t<tr><td> -9.1531896</td><td> 4.252134e+04</td><td> 4</td><td>NA</td><td>NA</td><td>0.0</td><td> -413861.644</td><td>NA</td><td>0.17</td><td>infill_ei </td><td>1.16</td><td> 596050.13</td><td>  325593.354</td></tr>\n",
       "\t<tr><td>  1.5072475</td><td> 4.161511e+03</td><td> 5</td><td>NA</td><td>NA</td><td>0.0</td><td> -190756.787</td><td>NA</td><td>0.13</td><td>infill_ei </td><td>1.34</td><td> 495486.94</td><td>   28536.068</td></tr>\n",
       "\t<tr><td> 20.5386852</td><td>-2.450752e+04</td><td> 6</td><td>NA</td><td>NA</td><td>0.0</td><td> -154519.916</td><td>NA</td><td>0.14</td><td>infill_ei </td><td>0.94</td><td> 357239.41</td><td>   65914.462</td></tr>\n",
       "\t<tr><td> 11.6991247</td><td> 1.474277e+04</td><td> 7</td><td>NA</td><td>NA</td><td>0.0</td><td> -125753.317</td><td>NA</td><td>0.07</td><td>infill_ei </td><td>0.73</td><td> 339345.78</td><td>   22812.699</td></tr>\n",
       "\t<tr><td>-11.2840281</td><td> 2.714416e+04</td><td> 8</td><td>NA</td><td>NA</td><td>0.0</td><td>  -62310.577</td><td>NA</td><td>0.12</td><td>infill_ei </td><td>0.81</td><td> 111202.14</td><td>   74721.950</td></tr>\n",
       "\t<tr><td> -6.4526937</td><td> 4.238296e+04</td><td> 9</td><td>NA</td><td>NA</td><td>0.0</td><td>  -51593.130</td><td>NA</td><td>0.05</td><td>infill_ei </td><td>0.87</td><td> 125411.30</td><td>   45613.447</td></tr>\n",
       "\t<tr><td> -1.1925137</td><td> 1.637833e+04</td><td>10</td><td>NA</td><td>NA</td><td>0.0</td><td>  -34907.447</td><td>NA</td><td>0.06</td><td>infill_ei </td><td>0.99</td><td> 117035.25</td><td>   16690.359</td></tr>\n",
       "\t<tr><td> 14.1282532</td><td> 2.096750e+04</td><td>11</td><td>NA</td><td>NA</td><td>0.0</td><td>  -32333.476</td><td>NA</td><td>0.09</td><td>infill_ei </td><td>0.62</td><td> 103472.45</td><td>   23193.028</td></tr>\n",
       "\t<tr><td>  9.2130112</td><td> 5.978225e+03</td><td>12</td><td>NA</td><td>NA</td><td>0.0</td><td>  -24514.170</td><td>NA</td><td>0.05</td><td>infill_ei </td><td>0.70</td><td> 100463.39</td><td>    6212.661</td></tr>\n",
       "\t<tr><td>  4.0851190</td><td>-1.612004e+03</td><td>13</td><td>NA</td><td>NA</td><td>0.0</td><td>  -21146.979</td><td>NA</td><td>0.04</td><td>infill_ei </td><td>0.63</td><td>  98445.06</td><td>   -1434.867</td></tr>\n",
       "\t<tr><td> -7.8099364</td><td> 4.455278e+04</td><td>14</td><td>NA</td><td>NA</td><td>0.0</td><td>  -17309.371</td><td>NA</td><td>0.06</td><td>infill_ei </td><td>0.72</td><td>  39199.83</td><td>   45756.678</td></tr>\n",
       "\t<tr><td> -5.1697847</td><td> 3.763310e+04</td><td>15</td><td>NA</td><td>NA</td><td>0.0</td><td>  -11326.598</td><td>NA</td><td>0.03</td><td>infill_ei </td><td>0.71</td><td>  36310.50</td><td>   37723.464</td></tr>\n",
       "\t<tr><td> 18.3167730</td><td> 7.417575e+03</td><td>16</td><td>NA</td><td>NA</td><td>0.0</td><td>  -10235.890</td><td>NA</td><td>0.05</td><td>infill_ei </td><td>0.69</td><td>  65487.94</td><td>    2221.165</td></tr>\n",
       "\t<tr><td>-10.0657671</td><td> 3.803357e+04</td><td>17</td><td>NA</td><td>NA</td><td>0.0</td><td>   -5777.692</td><td>NA</td><td>0.05</td><td>infill_ei </td><td>0.68</td><td>  24229.01</td><td>   35418.436</td></tr>\n",
       "\t<tr><td> -2.5384472</td><td> 2.380709e+04</td><td>18</td><td>NA</td><td>NA</td><td>0.0</td><td>   -4826.288</td><td>NA</td><td>0.04</td><td>infill_ei </td><td>1.39</td><td>  31500.34</td><td>   23812.453</td></tr>\n",
       "\t<tr><td> -7.1651329</td><td> 4.396607e+04</td><td>19</td><td>NA</td><td>NA</td><td>0.0</td><td>   -4677.194</td><td>NA</td><td>0.05</td><td>infill_ei </td><td>0.75</td><td>  12409.90</td><td>   43995.514</td></tr>\n",
       "\t<tr><td> -8.4621630</td><td> 4.417235e+04</td><td>20</td><td>NA</td><td>NA</td><td>0.0</td><td>   -4159.436</td><td>NA</td><td>0.08</td><td>infill_ei </td><td>0.78</td><td>  11008.86</td><td>   44079.745</td></tr>\n",
       "\t<tr><td> 15.2896902</td><td> 2.138689e+04</td><td>21</td><td>NA</td><td>NA</td><td>0.0</td><td>   -2970.958</td><td>NA</td><td>0.05</td><td>infill_ei </td><td>0.86</td><td>  27285.10</td><td>   21209.955</td></tr>\n",
       "\t<tr><td> -5.8528945</td><td> 4.042252e+04</td><td>22</td><td>NA</td><td>NA</td><td>0.0</td><td>   -2351.065</td><td>NA</td><td>0.11</td><td>infill_ei </td><td>1.11</td><td>  10248.67</td><td>   40422.422</td></tr>\n",
       "\t<tr><td> 12.9140151</td><td> 1.849386e+04</td><td>23</td><td>NA</td><td>NA</td><td>0.0</td><td>   -2154.102</td><td>NA</td><td>0.05</td><td>infill_ei </td><td>0.67</td><td>  25993.05</td><td>   18486.951</td></tr>\n",
       "\t<tr><td>-12.2346487</td><td> 1.401019e+04</td><td>24</td><td>NA</td><td>NA</td><td>0.0</td><td>   -1854.312</td><td>NA</td><td>0.08</td><td>infill_ei </td><td>0.55</td><td>  21542.93</td><td>   23379.709</td></tr>\n",
       "\t<tr><td>  0.1223133</td><td> 9.805620e+03</td><td>25</td><td>NA</td><td>NA</td><td>0.0</td><td>   -1691.305</td><td>NA</td><td>0.03</td><td>infill_ei </td><td>0.55</td><td>  29291.49</td><td>    9815.048</td></tr>\n",
       "</tbody>\n",
       "</table>\n"
      ],
      "text/latex": [
       "A data.table: 29 × 13\n",
       "\\begin{tabular}{lllllllllllll}\n",
       " x & y & dob & eol & error.message & exec.time & ei & error.model & train.time & prop.type & propose.time & se & mean\\\\\n",
       " <dbl> & <dbl> & <int> & <int> & <chr> & <dbl> & <dbl> & <chr> & <dbl> & <chr> & <dbl> & <dbl> & <dbl>\\\\\n",
       "\\hline\n",
       "\t -13.2675349 & -5.692446e+03 &  0 & NA & NA & 0.2 &           NA & NA &   NA & initdesign &   NA &         NA &           NA\\\\\n",
       "\t  60.8625839 & -1.927372e+07 &  0 & NA & NA & 0.0 &           NA & NA &   NA & initdesign &   NA &         NA &           NA\\\\\n",
       "\t   6.7137710 & -5.149287e+02 &  0 & NA & NA & 0.0 &           NA & NA &   NA & initdesign &   NA &         NA &           NA\\\\\n",
       "\t -74.0589631 & -7.098422e+07 &  0 & NA & NA & 0.0 &           NA & NA &   NA & initdesign &   NA &         NA &           NA\\\\\n",
       "\t  -3.7521577 &  3.055141e+04 &  1 & NA & NA & 0.0 & -3395617.875 & NA & 0.30 & infill\\_ei  & 1.03 & 5455051.49 &  2114971.239\\\\\n",
       "\t  24.6358746 & -1.618694e+05 &  2 & NA & NA & 0.0 & -1529130.860 & NA & 0.05 & infill\\_ei  & 0.50 & 8109871.21 & -4271660.926\\\\\n",
       "\t  16.5060678 &  1.889539e+04 &  3 & NA & NA & 0.0 &  -930166.023 & NA & 0.09 & infill\\_ei  & 1.08 & 1711483.83 &   478756.349\\\\\n",
       "\t  -9.1531896 &  4.252134e+04 &  4 & NA & NA & 0.0 &  -413861.644 & NA & 0.17 & infill\\_ei  & 1.16 &  596050.13 &   325593.354\\\\\n",
       "\t   1.5072475 &  4.161511e+03 &  5 & NA & NA & 0.0 &  -190756.787 & NA & 0.13 & infill\\_ei  & 1.34 &  495486.94 &    28536.068\\\\\n",
       "\t  20.5386852 & -2.450752e+04 &  6 & NA & NA & 0.0 &  -154519.916 & NA & 0.14 & infill\\_ei  & 0.94 &  357239.41 &    65914.462\\\\\n",
       "\t  11.6991247 &  1.474277e+04 &  7 & NA & NA & 0.0 &  -125753.317 & NA & 0.07 & infill\\_ei  & 0.73 &  339345.78 &    22812.699\\\\\n",
       "\t -11.2840281 &  2.714416e+04 &  8 & NA & NA & 0.0 &   -62310.577 & NA & 0.12 & infill\\_ei  & 0.81 &  111202.14 &    74721.950\\\\\n",
       "\t  -6.4526937 &  4.238296e+04 &  9 & NA & NA & 0.0 &   -51593.130 & NA & 0.05 & infill\\_ei  & 0.87 &  125411.30 &    45613.447\\\\\n",
       "\t  -1.1925137 &  1.637833e+04 & 10 & NA & NA & 0.0 &   -34907.447 & NA & 0.06 & infill\\_ei  & 0.99 &  117035.25 &    16690.359\\\\\n",
       "\t  14.1282532 &  2.096750e+04 & 11 & NA & NA & 0.0 &   -32333.476 & NA & 0.09 & infill\\_ei  & 0.62 &  103472.45 &    23193.028\\\\\n",
       "\t   9.2130112 &  5.978225e+03 & 12 & NA & NA & 0.0 &   -24514.170 & NA & 0.05 & infill\\_ei  & 0.70 &  100463.39 &     6212.661\\\\\n",
       "\t   4.0851190 & -1.612004e+03 & 13 & NA & NA & 0.0 &   -21146.979 & NA & 0.04 & infill\\_ei  & 0.63 &   98445.06 &    -1434.867\\\\\n",
       "\t  -7.8099364 &  4.455278e+04 & 14 & NA & NA & 0.0 &   -17309.371 & NA & 0.06 & infill\\_ei  & 0.72 &   39199.83 &    45756.678\\\\\n",
       "\t  -5.1697847 &  3.763310e+04 & 15 & NA & NA & 0.0 &   -11326.598 & NA & 0.03 & infill\\_ei  & 0.71 &   36310.50 &    37723.464\\\\\n",
       "\t  18.3167730 &  7.417575e+03 & 16 & NA & NA & 0.0 &   -10235.890 & NA & 0.05 & infill\\_ei  & 0.69 &   65487.94 &     2221.165\\\\\n",
       "\t -10.0657671 &  3.803357e+04 & 17 & NA & NA & 0.0 &    -5777.692 & NA & 0.05 & infill\\_ei  & 0.68 &   24229.01 &    35418.436\\\\\n",
       "\t  -2.5384472 &  2.380709e+04 & 18 & NA & NA & 0.0 &    -4826.288 & NA & 0.04 & infill\\_ei  & 1.39 &   31500.34 &    23812.453\\\\\n",
       "\t  -7.1651329 &  4.396607e+04 & 19 & NA & NA & 0.0 &    -4677.194 & NA & 0.05 & infill\\_ei  & 0.75 &   12409.90 &    43995.514\\\\\n",
       "\t  -8.4621630 &  4.417235e+04 & 20 & NA & NA & 0.0 &    -4159.436 & NA & 0.08 & infill\\_ei  & 0.78 &   11008.86 &    44079.745\\\\\n",
       "\t  15.2896902 &  2.138689e+04 & 21 & NA & NA & 0.0 &    -2970.958 & NA & 0.05 & infill\\_ei  & 0.86 &   27285.10 &    21209.955\\\\\n",
       "\t  -5.8528945 &  4.042252e+04 & 22 & NA & NA & 0.0 &    -2351.065 & NA & 0.11 & infill\\_ei  & 1.11 &   10248.67 &    40422.422\\\\\n",
       "\t  12.9140151 &  1.849386e+04 & 23 & NA & NA & 0.0 &    -2154.102 & NA & 0.05 & infill\\_ei  & 0.67 &   25993.05 &    18486.951\\\\\n",
       "\t -12.2346487 &  1.401019e+04 & 24 & NA & NA & 0.0 &    -1854.312 & NA & 0.08 & infill\\_ei  & 0.55 &   21542.93 &    23379.709\\\\\n",
       "\t   0.1223133 &  9.805620e+03 & 25 & NA & NA & 0.0 &    -1691.305 & NA & 0.03 & infill\\_ei  & 0.55 &   29291.49 &     9815.048\\\\\n",
       "\\end{tabular}\n"
      ],
      "text/markdown": [
       "\n",
       "A data.table: 29 × 13\n",
       "\n",
       "| x &lt;dbl&gt; | y &lt;dbl&gt; | dob &lt;int&gt; | eol &lt;int&gt; | error.message &lt;chr&gt; | exec.time &lt;dbl&gt; | ei &lt;dbl&gt; | error.model &lt;chr&gt; | train.time &lt;dbl&gt; | prop.type &lt;chr&gt; | propose.time &lt;dbl&gt; | se &lt;dbl&gt; | mean &lt;dbl&gt; |\n",
       "|---|---|---|---|---|---|---|---|---|---|---|---|---|\n",
       "| -13.2675349 | -5.692446e+03 |  0 | NA | NA | 0.2 |           NA | NA |   NA | initdesign |   NA |         NA |           NA |\n",
       "|  60.8625839 | -1.927372e+07 |  0 | NA | NA | 0.0 |           NA | NA |   NA | initdesign |   NA |         NA |           NA |\n",
       "|   6.7137710 | -5.149287e+02 |  0 | NA | NA | 0.0 |           NA | NA |   NA | initdesign |   NA |         NA |           NA |\n",
       "| -74.0589631 | -7.098422e+07 |  0 | NA | NA | 0.0 |           NA | NA |   NA | initdesign |   NA |         NA |           NA |\n",
       "|  -3.7521577 |  3.055141e+04 |  1 | NA | NA | 0.0 | -3395617.875 | NA | 0.30 | infill_ei  | 1.03 | 5455051.49 |  2114971.239 |\n",
       "|  24.6358746 | -1.618694e+05 |  2 | NA | NA | 0.0 | -1529130.860 | NA | 0.05 | infill_ei  | 0.50 | 8109871.21 | -4271660.926 |\n",
       "|  16.5060678 |  1.889539e+04 |  3 | NA | NA | 0.0 |  -930166.023 | NA | 0.09 | infill_ei  | 1.08 | 1711483.83 |   478756.349 |\n",
       "|  -9.1531896 |  4.252134e+04 |  4 | NA | NA | 0.0 |  -413861.644 | NA | 0.17 | infill_ei  | 1.16 |  596050.13 |   325593.354 |\n",
       "|   1.5072475 |  4.161511e+03 |  5 | NA | NA | 0.0 |  -190756.787 | NA | 0.13 | infill_ei  | 1.34 |  495486.94 |    28536.068 |\n",
       "|  20.5386852 | -2.450752e+04 |  6 | NA | NA | 0.0 |  -154519.916 | NA | 0.14 | infill_ei  | 0.94 |  357239.41 |    65914.462 |\n",
       "|  11.6991247 |  1.474277e+04 |  7 | NA | NA | 0.0 |  -125753.317 | NA | 0.07 | infill_ei  | 0.73 |  339345.78 |    22812.699 |\n",
       "| -11.2840281 |  2.714416e+04 |  8 | NA | NA | 0.0 |   -62310.577 | NA | 0.12 | infill_ei  | 0.81 |  111202.14 |    74721.950 |\n",
       "|  -6.4526937 |  4.238296e+04 |  9 | NA | NA | 0.0 |   -51593.130 | NA | 0.05 | infill_ei  | 0.87 |  125411.30 |    45613.447 |\n",
       "|  -1.1925137 |  1.637833e+04 | 10 | NA | NA | 0.0 |   -34907.447 | NA | 0.06 | infill_ei  | 0.99 |  117035.25 |    16690.359 |\n",
       "|  14.1282532 |  2.096750e+04 | 11 | NA | NA | 0.0 |   -32333.476 | NA | 0.09 | infill_ei  | 0.62 |  103472.45 |    23193.028 |\n",
       "|   9.2130112 |  5.978225e+03 | 12 | NA | NA | 0.0 |   -24514.170 | NA | 0.05 | infill_ei  | 0.70 |  100463.39 |     6212.661 |\n",
       "|   4.0851190 | -1.612004e+03 | 13 | NA | NA | 0.0 |   -21146.979 | NA | 0.04 | infill_ei  | 0.63 |   98445.06 |    -1434.867 |\n",
       "|  -7.8099364 |  4.455278e+04 | 14 | NA | NA | 0.0 |   -17309.371 | NA | 0.06 | infill_ei  | 0.72 |   39199.83 |    45756.678 |\n",
       "|  -5.1697847 |  3.763310e+04 | 15 | NA | NA | 0.0 |   -11326.598 | NA | 0.03 | infill_ei  | 0.71 |   36310.50 |    37723.464 |\n",
       "|  18.3167730 |  7.417575e+03 | 16 | NA | NA | 0.0 |   -10235.890 | NA | 0.05 | infill_ei  | 0.69 |   65487.94 |     2221.165 |\n",
       "| -10.0657671 |  3.803357e+04 | 17 | NA | NA | 0.0 |    -5777.692 | NA | 0.05 | infill_ei  | 0.68 |   24229.01 |    35418.436 |\n",
       "|  -2.5384472 |  2.380709e+04 | 18 | NA | NA | 0.0 |    -4826.288 | NA | 0.04 | infill_ei  | 1.39 |   31500.34 |    23812.453 |\n",
       "|  -7.1651329 |  4.396607e+04 | 19 | NA | NA | 0.0 |    -4677.194 | NA | 0.05 | infill_ei  | 0.75 |   12409.90 |    43995.514 |\n",
       "|  -8.4621630 |  4.417235e+04 | 20 | NA | NA | 0.0 |    -4159.436 | NA | 0.08 | infill_ei  | 0.78 |   11008.86 |    44079.745 |\n",
       "|  15.2896902 |  2.138689e+04 | 21 | NA | NA | 0.0 |    -2970.958 | NA | 0.05 | infill_ei  | 0.86 |   27285.10 |    21209.955 |\n",
       "|  -5.8528945 |  4.042252e+04 | 22 | NA | NA | 0.0 |    -2351.065 | NA | 0.11 | infill_ei  | 1.11 |   10248.67 |    40422.422 |\n",
       "|  12.9140151 |  1.849386e+04 | 23 | NA | NA | 0.0 |    -2154.102 | NA | 0.05 | infill_ei  | 0.67 |   25993.05 |    18486.951 |\n",
       "| -12.2346487 |  1.401019e+04 | 24 | NA | NA | 0.0 |    -1854.312 | NA | 0.08 | infill_ei  | 0.55 |   21542.93 |    23379.709 |\n",
       "|   0.1223133 |  9.805620e+03 | 25 | NA | NA | 0.0 |    -1691.305 | NA | 0.03 | infill_ei  | 0.55 |   29291.49 |     9815.048 |\n",
       "\n"
      ],
      "text/plain": [
       "   x           y             dob eol error.message exec.time ei          \n",
       "1  -13.2675349 -5.692446e+03  0  NA  NA            0.2                 NA\n",
       "2   60.8625839 -1.927372e+07  0  NA  NA            0.0                 NA\n",
       "3    6.7137710 -5.149287e+02  0  NA  NA            0.0                 NA\n",
       "4  -74.0589631 -7.098422e+07  0  NA  NA            0.0                 NA\n",
       "5   -3.7521577  3.055141e+04  1  NA  NA            0.0       -3395617.875\n",
       "6   24.6358746 -1.618694e+05  2  NA  NA            0.0       -1529130.860\n",
       "7   16.5060678  1.889539e+04  3  NA  NA            0.0        -930166.023\n",
       "8   -9.1531896  4.252134e+04  4  NA  NA            0.0        -413861.644\n",
       "9    1.5072475  4.161511e+03  5  NA  NA            0.0        -190756.787\n",
       "10  20.5386852 -2.450752e+04  6  NA  NA            0.0        -154519.916\n",
       "11  11.6991247  1.474277e+04  7  NA  NA            0.0        -125753.317\n",
       "12 -11.2840281  2.714416e+04  8  NA  NA            0.0         -62310.577\n",
       "13  -6.4526937  4.238296e+04  9  NA  NA            0.0         -51593.130\n",
       "14  -1.1925137  1.637833e+04 10  NA  NA            0.0         -34907.447\n",
       "15  14.1282532  2.096750e+04 11  NA  NA            0.0         -32333.476\n",
       "16   9.2130112  5.978225e+03 12  NA  NA            0.0         -24514.170\n",
       "17   4.0851190 -1.612004e+03 13  NA  NA            0.0         -21146.979\n",
       "18  -7.8099364  4.455278e+04 14  NA  NA            0.0         -17309.371\n",
       "19  -5.1697847  3.763310e+04 15  NA  NA            0.0         -11326.598\n",
       "20  18.3167730  7.417575e+03 16  NA  NA            0.0         -10235.890\n",
       "21 -10.0657671  3.803357e+04 17  NA  NA            0.0          -5777.692\n",
       "22  -2.5384472  2.380709e+04 18  NA  NA            0.0          -4826.288\n",
       "23  -7.1651329  4.396607e+04 19  NA  NA            0.0          -4677.194\n",
       "24  -8.4621630  4.417235e+04 20  NA  NA            0.0          -4159.436\n",
       "25  15.2896902  2.138689e+04 21  NA  NA            0.0          -2970.958\n",
       "26  -5.8528945  4.042252e+04 22  NA  NA            0.0          -2351.065\n",
       "27  12.9140151  1.849386e+04 23  NA  NA            0.0          -2154.102\n",
       "28 -12.2346487  1.401019e+04 24  NA  NA            0.0          -1854.312\n",
       "29   0.1223133  9.805620e+03 25  NA  NA            0.0          -1691.305\n",
       "   error.model train.time prop.type  propose.time se         mean        \n",
       "1  NA            NA       initdesign   NA                 NA           NA\n",
       "2  NA            NA       initdesign   NA                 NA           NA\n",
       "3  NA            NA       initdesign   NA                 NA           NA\n",
       "4  NA            NA       initdesign   NA                 NA           NA\n",
       "5  NA          0.30       infill_ei  1.03         5455051.49  2114971.239\n",
       "6  NA          0.05       infill_ei  0.50         8109871.21 -4271660.926\n",
       "7  NA          0.09       infill_ei  1.08         1711483.83   478756.349\n",
       "8  NA          0.17       infill_ei  1.16          596050.13   325593.354\n",
       "9  NA          0.13       infill_ei  1.34          495486.94    28536.068\n",
       "10 NA          0.14       infill_ei  0.94          357239.41    65914.462\n",
       "11 NA          0.07       infill_ei  0.73          339345.78    22812.699\n",
       "12 NA          0.12       infill_ei  0.81          111202.14    74721.950\n",
       "13 NA          0.05       infill_ei  0.87          125411.30    45613.447\n",
       "14 NA          0.06       infill_ei  0.99          117035.25    16690.359\n",
       "15 NA          0.09       infill_ei  0.62          103472.45    23193.028\n",
       "16 NA          0.05       infill_ei  0.70          100463.39     6212.661\n",
       "17 NA          0.04       infill_ei  0.63           98445.06    -1434.867\n",
       "18 NA          0.06       infill_ei  0.72           39199.83    45756.678\n",
       "19 NA          0.03       infill_ei  0.71           36310.50    37723.464\n",
       "20 NA          0.05       infill_ei  0.69           65487.94     2221.165\n",
       "21 NA          0.05       infill_ei  0.68           24229.01    35418.436\n",
       "22 NA          0.04       infill_ei  1.39           31500.34    23812.453\n",
       "23 NA          0.05       infill_ei  0.75           12409.90    43995.514\n",
       "24 NA          0.08       infill_ei  0.78           11008.86    44079.745\n",
       "25 NA          0.05       infill_ei  0.86           27285.10    21209.955\n",
       "26 NA          0.11       infill_ei  1.11           10248.67    40422.422\n",
       "27 NA          0.05       infill_ei  0.67           25993.05    18486.951\n",
       "28 NA          0.08       infill_ei  0.55           21542.93    23379.709\n",
       "29 NA          0.03       infill_ei  0.55           29291.49     9815.048"
      ]
     },
     "metadata": {},
     "output_type": "display_data"
    }
   ],
   "source": [
    "tb_resultados"
   ]
  },
  {
   "cell_type": "code",
   "execution_count": 25,
   "metadata": {
    "tags": [],
    "vscode": {
     "languageId": "r"
    }
   },
   "outputs": [
    {
     "data": {
      "text/html": [
       "<table class=\"dataframe\">\n",
       "<caption>A data.table: 1 × 13</caption>\n",
       "<thead>\n",
       "\t<tr><th scope=col>x</th><th scope=col>y</th><th scope=col>dob</th><th scope=col>eol</th><th scope=col>error.message</th><th scope=col>exec.time</th><th scope=col>ei</th><th scope=col>error.model</th><th scope=col>train.time</th><th scope=col>prop.type</th><th scope=col>propose.time</th><th scope=col>se</th><th scope=col>mean</th></tr>\n",
       "\t<tr><th scope=col>&lt;dbl&gt;</th><th scope=col>&lt;dbl&gt;</th><th scope=col>&lt;int&gt;</th><th scope=col>&lt;int&gt;</th><th scope=col>&lt;chr&gt;</th><th scope=col>&lt;dbl&gt;</th><th scope=col>&lt;dbl&gt;</th><th scope=col>&lt;chr&gt;</th><th scope=col>&lt;dbl&gt;</th><th scope=col>&lt;chr&gt;</th><th scope=col>&lt;dbl&gt;</th><th scope=col>&lt;dbl&gt;</th><th scope=col>&lt;dbl&gt;</th></tr>\n",
       "</thead>\n",
       "<tbody>\n",
       "\t<tr><td>-7.809936</td><td>44552.78</td><td>14</td><td>NA</td><td>NA</td><td>0</td><td>-17309.37</td><td>NA</td><td>0.06</td><td>infill_ei</td><td>0.72</td><td>39199.83</td><td>45756.68</td></tr>\n",
       "</tbody>\n",
       "</table>\n"
      ],
      "text/latex": [
       "A data.table: 1 × 13\n",
       "\\begin{tabular}{lllllllllllll}\n",
       " x & y & dob & eol & error.message & exec.time & ei & error.model & train.time & prop.type & propose.time & se & mean\\\\\n",
       " <dbl> & <dbl> & <int> & <int> & <chr> & <dbl> & <dbl> & <chr> & <dbl> & <chr> & <dbl> & <dbl> & <dbl>\\\\\n",
       "\\hline\n",
       "\t -7.809936 & 44552.78 & 14 & NA & NA & 0 & -17309.37 & NA & 0.06 & infill\\_ei & 0.72 & 39199.83 & 45756.68\\\\\n",
       "\\end{tabular}\n"
      ],
      "text/markdown": [
       "\n",
       "A data.table: 1 × 13\n",
       "\n",
       "| x &lt;dbl&gt; | y &lt;dbl&gt; | dob &lt;int&gt; | eol &lt;int&gt; | error.message &lt;chr&gt; | exec.time &lt;dbl&gt; | ei &lt;dbl&gt; | error.model &lt;chr&gt; | train.time &lt;dbl&gt; | prop.type &lt;chr&gt; | propose.time &lt;dbl&gt; | se &lt;dbl&gt; | mean &lt;dbl&gt; |\n",
       "|---|---|---|---|---|---|---|---|---|---|---|---|---|\n",
       "| -7.809936 | 44552.78 | 14 | NA | NA | 0 | -17309.37 | NA | 0.06 | infill_ei | 0.72 | 39199.83 | 45756.68 |\n",
       "\n"
      ],
      "text/plain": [
       "  x         y        dob eol error.message exec.time ei        error.model\n",
       "1 -7.809936 44552.78 14  NA  NA            0         -17309.37 NA         \n",
       "  train.time prop.type propose.time se       mean    \n",
       "1 0.06       infill_ei 0.72         39199.83 45756.68"
      ]
     },
     "metadata": {},
     "output_type": "display_data"
    }
   ],
   "source": [
    "tb_resultados[ which.max( tb_resultados$y ) ]"
   ]
  },
  {
   "cell_type": "markdown",
   "metadata": {},
   "source": [
    "### Conclusiones"
   ]
  },
  {
   "cell_type": "markdown",
   "metadata": {},
   "source": [
    "La gran pregunta es :  la Optimización Bayesiana, ¿se focaliza luego de muchas iteraciones solo en el entorno del máximo que está cerca de x= -8 ?"
   ]
  }
 ],
 "metadata": {
  "kernelspec": {
   "display_name": "R",
   "language": "R",
   "name": "ir"
  },
  "language_info": {
   "codemirror_mode": "r",
   "file_extension": ".r",
   "mimetype": "text/x-r-source",
   "name": "R",
   "pygments_lexer": "r",
   "version": "4.2.3"
  }
 },
 "nbformat": 4,
 "nbformat_minor": 4
}
